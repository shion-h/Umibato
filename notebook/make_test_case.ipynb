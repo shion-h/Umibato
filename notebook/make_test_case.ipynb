{
 "cells": [
  {
   "cell_type": "code",
   "execution_count": 1,
   "metadata": {},
   "outputs": [],
   "source": [
    "import pandas as pd\n",
    "import numpy as np"
   ]
  },
  {
   "cell_type": "markdown",
   "metadata": {},
   "source": [
    "# EM algorithm"
   ]
  },
  {
   "cell_type": "markdown",
   "metadata": {},
   "source": [
    "input"
   ]
  },
  {
   "cell_type": "code",
   "execution_count": 2,
   "metadata": {},
   "outputs": [],
   "source": [
    "likelihood_given_z = np.array([[1, 2, 3, 4, 5],\n",
    "                               [2, 3, 1, 1, 1]])\n",
    "pi = np.array([0.3, 0.7])\n",
    "p_delta_t = np.array([[0.7, 0.3],\n",
    "                      [0.2, 0.8]])\n",
    "\n",
    "np.savetxt('../testcase/input/likelihood_given_z.csv', likelihood_given_z, delimiter=',', fmt='%f')\n",
    "np.savetxt('../testcase/input/pi.csv', pi, delimiter=',', fmt='%f')\n",
    "np.savetxt('../testcase/input/p_delta_t.csv', p_delta_t, delimiter=',', fmt='%f')"
   ]
  },
  {
   "cell_type": "code",
   "execution_count": 117,
   "metadata": {},
   "outputs": [],
   "source": [
    "c = np.array([1, 2, 3, 4, 5])\n",
    "\n",
    "np.savetxt('../testcase/input/c.csv', c, delimiter=',', fmt='%f')\n",
    "\n",
    "alpha = [[1, 3, 5, 7, 6],\n",
    "         [3, 6, 1, 4, 8]]\n",
    "\n",
    "beta = [[2, 1, 3, 1, 3],\n",
    "        [1, 3, 2, 1, 4]]\n",
    "\n",
    "np.savetxt('../testcase/input/alpha.csv', alpha, delimiter=',', fmt='%f')\n",
    "np.savetxt('../testcase/input/beta.csv', beta, delimiter=',', fmt='%f')"
   ]
  },
  {
   "cell_type": "code",
   "execution_count": 4,
   "metadata": {},
   "outputs": [],
   "source": [
    "xi = np.zeros((5, 2, 2))\n",
    "\n",
    "xi[0] = np.array([[1, 2], [2, 3]])\n",
    "xi[1] = np.array([[3, 2], [2, 2]])\n",
    "xi[3] = np.array([[1, 1], [1, 2]])\n",
    "\n",
    "np.savetxt('../testcase/input/xi0.csv', xi[0], delimiter=',', fmt='%f')\n",
    "np.savetxt('../testcase/input/xi1.csv', xi[1], delimiter=',', fmt='%f')\n",
    "np.savetxt('../testcase/input/xi3.csv', xi[3], delimiter=',', fmt='%f')"
   ]
  },
  {
   "cell_type": "code",
   "execution_count": 5,
   "metadata": {},
   "outputs": [],
   "source": [
    "C = np.zeros((2, 2, 2))\n",
    "C[0] = xi[0]\n",
    "\n",
    "C[1] = xi[1] + xi[3]\n",
    "\n",
    "np.savetxt('../testcase/input/C0.csv', C[0], delimiter=',', fmt='%f')\n",
    "np.savetxt('../testcase/input/C1.csv', C[1], delimiter=',', fmt='%f')"
   ]
  },
  {
   "cell_type": "code",
   "execution_count": 6,
   "metadata": {},
   "outputs": [],
   "source": [
    "q = np.array([[-0.5, 0.5],[0.25, -0.25]])\n",
    "\n",
    "np.savetxt('../testcase/input/q.csv', q, delimiter=',', fmt='%f')"
   ]
  },
  {
   "cell_type": "code",
   "execution_count": 7,
   "metadata": {},
   "outputs": [],
   "source": [
    "ex_tau_n = np.array([[10, 5], [4, 16]])\n",
    "\n",
    "np.savetxt('../testcase/input/ex_tau_n.csv', ex_tau_n, delimiter=',', fmt='%f')"
   ]
  },
  {
   "cell_type": "code",
   "execution_count": 30,
   "metadata": {},
   "outputs": [],
   "source": [
    "x = np.array([[1, 2, 5, 2, 1],\n",
    "              [2, 2, 3, 4, 3]])\n",
    "y = np.array([[3, 4, 1, 6, 5],\n",
    "              [1, 0, 7, 2, -1]])\n",
    "gamma = np.array([[0.0, 0.0, 1.0, 0.0, 1.0],\n",
    "                  [1.0, 1.0, 0.0, 1.0, 0.0]])\n",
    "\n",
    "np.savetxt('../testcase/input/x.csv', x, delimiter=',', fmt='%f')\n",
    "np.savetxt('../testcase/input/y.csv', y, delimiter=',', fmt='%f')\n",
    "np.savetxt('../testcase/input/gamma.csv', gamma, delimiter=',', fmt='%f')"
   ]
  },
  {
   "cell_type": "code",
   "execution_count": 9,
   "metadata": {},
   "outputs": [],
   "source": [
    "phi = np.zeros((2, 2, 2))\n",
    "phi[0] = np.array([[-1, 2],[2, -1]])\n",
    "phi[1] = np.array([[1, -1],[1, 1]])\n",
    "\n",
    "np.savetxt('../testcase/input/phi0.csv', phi[0], delimiter=',', fmt='%f')\n",
    "np.savetxt('../testcase/input/phi1.csv', phi[1], delimiter=',', fmt='%f')"
   ]
  },
  {
   "cell_type": "markdown",
   "metadata": {},
   "source": [
    "updateForwardProb"
   ]
  },
  {
   "cell_type": "code",
   "execution_count": 10,
   "metadata": {},
   "outputs": [],
   "source": [
    "output_c = np.zeros((5))\n",
    "\n",
    "output_alpha = np.zeros((2, 5))\n",
    "\n",
    "output_alpha[:, 0] = pi * likelihood_given_z[:,0]\n",
    "output_c[0] = output_alpha[:, 0].sum()\n",
    "output_alpha[:, 0] = output_alpha[:, 0] / output_c[0]\n",
    "\n",
    "output_alpha[:, 1] = np.dot(p_delta_t.T, output_alpha[:, 0]) * likelihood_given_z[:, 1]\n",
    "output_c[1] = output_alpha[:, 1].sum()\n",
    "output_alpha[:, 1] = output_alpha[:, 1] / output_c[1]\n",
    "\n",
    "output_alpha[:, 2] = np.dot(p_delta_t.T, output_alpha[:, 1]) * likelihood_given_z[:, 2]\n",
    "output_c[2] = output_alpha[:, 2].sum()\n",
    "output_alpha[:, 2] = output_alpha[:, 2] / output_c[2]\n",
    "\n",
    "output_alpha[:, 3] = pi * likelihood_given_z[:, 3]\n",
    "output_c[3] = output_alpha[:, 3].sum()\n",
    "output_alpha[:, 3] = output_alpha[:, 3] / output_c[3]\n",
    "output_alpha[:, 4] = np.dot(p_delta_t.T, output_alpha[:, 3]) * likelihood_given_z[:, 4]\n",
    "output_c[4] = output_alpha[:, 4].sum()\n",
    "output_alpha[:, 4] = output_alpha[:, 4] / output_c[4]"
   ]
  },
  {
   "cell_type": "code",
   "execution_count": 11,
   "metadata": {},
   "outputs": [],
   "source": [
    "np.savetxt('../testcase/output/alpha.csv', output_alpha, delimiter=',', fmt='%f')\n",
    "np.savetxt('../testcase/output/c.csv', output_c, delimiter=',', fmt='%f')"
   ]
  },
  {
   "cell_type": "markdown",
   "metadata": {},
   "source": [
    "updateBackwardProb"
   ]
  },
  {
   "cell_type": "code",
   "execution_count": 12,
   "metadata": {},
   "outputs": [],
   "source": [
    "output_beta = np.zeros((2, 5))\n",
    "output_beta[:, 4] = 1\n",
    "output_beta[:, 3] = np.dot(p_delta_t, output_beta[:, 4] * likelihood_given_z[:, 4]) / c[4]\n",
    "output_beta[:, 2] = 1\n",
    "output_beta[:, 1] = np.dot(p_delta_t, output_beta[:, 2] * likelihood_given_z[:, 2]) / c[2]\n",
    "output_beta[:, 0] = np.dot(p_delta_t, output_beta[:, 1] * likelihood_given_z[:, 1]) / c[1]"
   ]
  },
  {
   "cell_type": "code",
   "execution_count": 13,
   "metadata": {},
   "outputs": [],
   "source": [
    "np.savetxt('../testcase/output/beta.csv', output_beta, delimiter=',', fmt='%f')"
   ]
  },
  {
   "cell_type": "markdown",
   "metadata": {},
   "source": [
    "updateXi"
   ]
  },
  {
   "cell_type": "code",
   "execution_count": 14,
   "metadata": {},
   "outputs": [],
   "source": [
    "output_xi = np.zeros((5, 2, 2))\n",
    "\n",
    "for i in range(2):\n",
    "    for j in range(2):\n",
    "        output_xi[0][i][j] = alpha[i][0] * likelihood_given_z[j][1] * beta[j][1] * p_delta_t[i][j] / c[1];\n",
    "\n",
    "for i in range(2):\n",
    "    for j in range(2):\n",
    "        output_xi[1][i][j] = alpha[i][1] * likelihood_given_z[j][2] * beta[j][2] * p_delta_t[i][j] / c[2];\n",
    "\n",
    "for i in range(2):\n",
    "    for j in range(2):\n",
    "        output_xi[3][i][j] = alpha[i][3] * likelihood_given_z[j][4] * beta[j][4] * p_delta_t[i][j] / c[4];"
   ]
  },
  {
   "cell_type": "code",
   "execution_count": 15,
   "metadata": {},
   "outputs": [],
   "source": [
    "np.savetxt('../testcase/output/xi0.csv', output_xi[0], delimiter=',', fmt='%f')\n",
    "np.savetxt('../testcase/output/xi1.csv', output_xi[1], delimiter=',', fmt='%f')\n",
    "np.savetxt('../testcase/output/xi3.csv', output_xi[3], delimiter=',', fmt='%f')"
   ]
  },
  {
   "cell_type": "markdown",
   "metadata": {},
   "source": [
    "updateC"
   ]
  },
  {
   "cell_type": "code",
   "execution_count": 16,
   "metadata": {},
   "outputs": [],
   "source": [
    "output_C = np.zeros((2, 2, 2))\n",
    "\n",
    "output_C[0] = xi[0]\n",
    "\n",
    "output_C[1] = xi[1] + xi[3]"
   ]
  },
  {
   "cell_type": "code",
   "execution_count": 17,
   "metadata": {},
   "outputs": [],
   "source": [
    "np.savetxt('../testcase/output/C0.csv', output_C[0], delimiter=',', fmt='%f')\n",
    "np.savetxt('../testcase/output/C1.csv', output_C[1], delimiter=',', fmt='%f')"
   ]
  },
  {
   "cell_type": "markdown",
   "metadata": {},
   "source": [
    "updateTauAndN"
   ]
  },
  {
   "cell_type": "code",
   "execution_count": 18,
   "metadata": {},
   "outputs": [],
   "source": [
    "from scipy.linalg import expm"
   ]
  },
  {
   "cell_type": "code",
   "execution_count": 19,
   "metadata": {},
   "outputs": [],
   "source": [
    "A = np.zeros((4, 4))\n",
    "A[0:2, 0:2] = q\n",
    "A[2:, 2:] = q\n",
    "\n",
    "output_ex_tau_n = np.zeros((2, 2))\n",
    "\n",
    "for d, delta in enumerate([1.4, 1.0]):\n",
    "    for i in range(2):\n",
    "        for j in range(2):\n",
    "            A[i][2 + j] = 1\n",
    "            D = expm(A * delta)[:2, 2:] / p_delta_t\n",
    "            if i == j:\n",
    "                output_ex_tau_n[i][i] += (C[d] * D).sum();\n",
    "            else:\n",
    "                output_ex_tau_n[i][j] += (C[d] * (q[i][j] * D)).sum()\n",
    "            A[i][2 + j] = 0"
   ]
  },
  {
   "cell_type": "code",
   "execution_count": 30,
   "metadata": {},
   "outputs": [
    {
     "data": {
      "text/plain": [
       "array([[11.19509481,  7.60917488],\n",
       "       [ 6.00749441, 15.10959021]])"
      ]
     },
     "execution_count": 30,
     "metadata": {},
     "output_type": "execute_result"
    }
   ],
   "source": [
    "output_ex_tau_n"
   ]
  },
  {
   "cell_type": "code",
   "execution_count": 31,
   "metadata": {},
   "outputs": [
    {
     "data": {
      "text/plain": [
       "array([[-0.5 ,  0.5 ],\n",
       "       [ 0.25, -0.25]])"
      ]
     },
     "execution_count": 31,
     "metadata": {},
     "output_type": "execute_result"
    }
   ],
   "source": [
    "q"
   ]
  },
  {
   "cell_type": "code",
   "execution_count": 20,
   "metadata": {},
   "outputs": [],
   "source": [
    "np.savetxt('../testcase/output/ex_tau_n.csv', output_ex_tau_n, delimiter=',', fmt='%f')"
   ]
  },
  {
   "cell_type": "markdown",
   "metadata": {},
   "source": [
    "updateQ"
   ]
  },
  {
   "cell_type": "code",
   "execution_count": 21,
   "metadata": {},
   "outputs": [],
   "source": [
    "output_p_delta_t0 = expm(q * 1.4)\n",
    "output_p_delta_t1 = expm(q * 1.0)"
   ]
  },
  {
   "cell_type": "code",
   "execution_count": 22,
   "metadata": {},
   "outputs": [],
   "source": [
    "np.savetxt('../testcase/output/p_delta_t0.csv', output_p_delta_t0, delimiter=',', fmt='%f')\n",
    "np.savetxt('../testcase/output/p_delta_t1.csv', output_p_delta_t1, delimiter=',', fmt='%f')"
   ]
  },
  {
   "cell_type": "markdown",
   "metadata": {},
   "source": [
    "updatePhi"
   ]
  },
  {
   "cell_type": "code",
   "execution_count": 23,
   "metadata": {},
   "outputs": [],
   "source": [
    "output_phi = np.zeros((2, len(x), len(y)))\n",
    "\n",
    "for k in range(2):\n",
    "    for p in range(2):\n",
    "        gamma_matrix = np.dot(np.ones((len(x), 1)), gamma[k, :].reshape(1, -1))\n",
    "        term1 = np.dot(x * gamma_matrix, x.T)\n",
    "        term2 = np.dot(x, (gamma[k, :] * y[p, :]).reshape(-1, 1))\n",
    "        output_phi[k, :, p] = np.dot(np.linalg.inv(term1), term2).reshape(1, -1)"
   ]
  },
  {
   "cell_type": "code",
   "execution_count": 24,
   "metadata": {},
   "outputs": [],
   "source": [
    "np.savetxt('../testcase/output/phi0.csv', output_phi[0], delimiter=',', fmt='%f')\n",
    "np.savetxt('../testcase/output/phi1.csv', output_phi[1], delimiter=',', fmt='%f')"
   ]
  },
  {
   "cell_type": "markdown",
   "metadata": {},
   "source": [
    "updateLikelihoodGivenZ"
   ]
  },
  {
   "cell_type": "code",
   "execution_count": 25,
   "metadata": {},
   "outputs": [],
   "source": [
    "from scipy.stats import multivariate_normal"
   ]
  },
  {
   "cell_type": "code",
   "execution_count": 26,
   "metadata": {},
   "outputs": [],
   "source": [
    "output_lgz = np.zeros((2, 5))\n",
    "\n",
    "for n in range(5):\n",
    "    for k in range(2):\n",
    "        output_lgz[k, n] = multivariate_normal.pdf(y[:,n], mean=np.dot(phi[k].T, x[:,n]), cov=1)"
   ]
  },
  {
   "cell_type": "code",
   "execution_count": 27,
   "metadata": {},
   "outputs": [],
   "source": [
    "np.savetxt('../testcase/output/likelihood_given_z.csv', output_lgz, delimiter=',', fmt='%f')"
   ]
  },
  {
   "cell_type": "markdown",
   "metadata": {},
   "source": [
    "findViterbiPath"
   ]
  },
  {
   "cell_type": "code",
   "execution_count": 28,
   "metadata": {},
   "outputs": [],
   "source": [
    "max_path_prob = np.zeros((2, 5))\n",
    "\n",
    "max_path = np.zeros((2, 5))\n",
    "\n",
    "max_path_prob[:, 0] = pi.reshape(1, -1) * likelihood_given_z[:, 0].reshape(1, -1)\n",
    "\n",
    "path_prob_matrix = max_path_prob[:, 0].reshape(-1, 1) * p_delta_t * likelihood_given_z[:, 1].reshape(1, -1)\n",
    "max_path_prob[:, 1] = path_prob_matrix.max(0)\n",
    "max_path[:, 0] = path_prob_matrix.argmax(0)\n",
    "\n",
    "path_prob_matrix = max_path_prob[:, 1].reshape(-1, 1) * p_delta_t * likelihood_given_z[:, 2].reshape(1, -1)\n",
    "max_path_prob[:, 2] = path_prob_matrix.max(0)\n",
    "max_path[:, 1] = path_prob_matrix.argmax(0)\n",
    "\n",
    "max_path[:, 2] = max_path_prob[:, 2].argmax()\n",
    "\n",
    "max_path_prob[:, 3] = pi.reshape(1, -1) * likelihood_given_z[:, 3].reshape(1, -1)\n",
    "\n",
    "path_prob_matrix = max_path_prob[:, 3].reshape(-1, 1) * p_delta_t * likelihood_given_z[:, 4].reshape(1, -1)\n",
    "max_path_prob[:, 4] = path_prob_matrix.max(0)\n",
    "max_path[:, 3] = path_prob_matrix.argmax(0)\n",
    "\n",
    "max_path[:, 4] = max_path_prob[:, 4].argmax()\n",
    "\n",
    "viterbi_path = np.zeros(5)\n",
    "\n",
    "this_path = 0 # whatever fine (0-K)\n",
    "for n in [4, 3, 2, 1, 0]:\n",
    "    this_path = max_path[int(this_path), n]\n",
    "    viterbi_path[n] = this_path"
   ]
  },
  {
   "cell_type": "code",
   "execution_count": 29,
   "metadata": {},
   "outputs": [],
   "source": [
    "np.savetxt('../testcase/output/max_path_log_prob.csv', np.log(max_path_prob), delimiter=',', fmt='%f')\n",
    "np.savetxt('../testcase/output/max_path.csv', max_path, delimiter=',', fmt='%d')\n",
    "np.savetxt('../testcase/output/viterbi_path.csv', viterbi_path, delimiter=',', fmt='%d')"
   ]
  },
  {
   "cell_type": "markdown",
   "metadata": {},
   "source": [
    "# Variational Inference"
   ]
  },
  {
   "cell_type": "markdown",
   "metadata": {},
   "source": [
    "input"
   ]
  },
  {
   "cell_type": "code",
   "execution_count": 131,
   "metadata": {},
   "outputs": [],
   "source": [
    "ex_phi = np.zeros((2, 2, 2))\n",
    "ex_phi[0] = np.array([[-1, 3],[2, -1]])\n",
    "ex_phi[1] = np.array([[1, -1],[2, 1]])\n",
    "\n",
    "np.savetxt('../testcase/input/ex_phi0.csv', ex_phi[0], delimiter=',', fmt='%f')\n",
    "np.savetxt('../testcase/input/ex_phi1.csv', ex_phi[1], delimiter=',', fmt='%f')"
   ]
  },
  {
   "cell_type": "code",
   "execution_count": 132,
   "metadata": {},
   "outputs": [],
   "source": [
    "ex_phi_phi_t = np.zeros((2, 2, 2, 2))\n",
    "\n",
    "for k in range(2):\n",
    "    for m in range(2):\n",
    "        ex_phi_phi_t[k][m] = np.outer(ex_phi[k, :, m], ex_phi[k, :, m]) + np.identity(2)\n",
    "\n",
    "for k in range(2):\n",
    "    for m in range(2):\n",
    "        np.savetxt('../testcase/input/ex_phi_phi_t{}{}.csv'.format(k, m), \n",
    "                   ex_phi_phi_t[k][m], delimiter=',', fmt='%f')"
   ]
  },
  {
   "cell_type": "code",
   "execution_count": 133,
   "metadata": {},
   "outputs": [],
   "source": [
    "lambda_ = np.array([2, 3])\n",
    "np.savetxt('../testcase/input/lambda.csv', lambda_, delimiter=',', fmt='%f')"
   ]
  },
  {
   "cell_type": "code",
   "execution_count": 134,
   "metadata": {},
   "outputs": [],
   "source": [
    "q_phi_entropy = 0"
   ]
  },
  {
   "cell_type": "markdown",
   "metadata": {},
   "source": [
    "updatePhi"
   ]
  },
  {
   "cell_type": "code",
   "execution_count": 136,
   "metadata": {},
   "outputs": [],
   "source": [
    "output_ex_phi = np.zeros((2, 2, 2))\n",
    "output_ex_phi_phi_t = np.zeros((2, 2, 2, 2))\n",
    "output_q_phi_entropy = 0;\n",
    "for m in range(2):\n",
    "    lambda_matrix = np.identity(2) * lambda_[m]\n",
    "    for k in range(2):\n",
    "        L = np.diag(gamma[k])\n",
    "        precPhi = lambda_matrix + x @ L @ x.T\n",
    "        covPhi = np.linalg.inv(precPhi)\n",
    "        t = x @ L @ y[m]\n",
    "        output_ex_phi[k, :, m] = covPhi @ t\n",
    "        output_ex_phi_phi_t[k][m] = np.outer(output_ex_phi[k, :, m], output_ex_phi[k, :, m]) + covPhi\n",
    "        output_q_phi_entropy += np.linalg.slogdet(2 * np.pi * np.e * covPhi)[1] / 2\n",
    "\n",
    "np.savetxt('../testcase/output/ex_phi0.csv', output_ex_phi[0], delimiter=',', fmt='%f')\n",
    "np.savetxt('../testcase/output/ex_phi1.csv', output_ex_phi[1], delimiter=',', fmt='%f')\n",
    "np.savetxt('../testcase/output/q_phi_entropy.csv', np.array([output_q_phi_entropy]), delimiter=',', fmt='%f')\n",
    "for k in range(2):\n",
    "    for m in range(2):\n",
    "        np.savetxt('../testcase/output/ex_phi_phi_t{}{}.csv'.format(k, m), \n",
    "                   output_ex_phi_phi_t[k][m], delimiter=',', fmt='%f')"
   ]
  },
  {
   "cell_type": "markdown",
   "metadata": {},
   "source": [
    "updateLambda"
   ]
  },
  {
   "cell_type": "code",
   "execution_count": 128,
   "metadata": {},
   "outputs": [],
   "source": [
    "output_lambda_ = np.zeros(2)\n",
    "\n",
    "for m in range(2):\n",
    "    sum_phi_m_t_phi_m = 0\n",
    "    for k in range(2):\n",
    "        sum_phi_m_t_phi_m += np.trace(ex_phi_phi_t[k][m])\n",
    "    output_lambda_[m] = 2 * 2 / sum_phi_m_t_phi_m\n",
    "\n",
    "np.savetxt('../testcase/output/lambda.csv', output_lambda_, delimiter=',', fmt='%f')"
   ]
  },
  {
   "cell_type": "markdown",
   "metadata": {},
   "source": [
    "updateLogLikelihoodGivenZ"
   ]
  },
  {
   "cell_type": "code",
   "execution_count": 130,
   "metadata": {},
   "outputs": [],
   "source": [
    "output_lgz = np.zeros((2, 5))\n",
    "prec_matrix = np.identity(2)\n",
    "for n in range(5):\n",
    "    for k in range(2):\n",
    "        output_lgz[k, n] = 0\n",
    "        output_lgz[k, n] -= 2 * np.log(2 * np.pi) / 2\n",
    "        output_lgz[k, n] -= 0\n",
    "        output_lgz[k, n] -= (y[:, n] @ prec_matrix @ y[:, n]) / 2\n",
    "        output_lgz[k, n] += (y[:, n] @ prec_matrix @ ex_phi[k].T @ x[:, n])\n",
    "        phi_prec_phi_t = np.zeros((2, 2))\n",
    "        for m in range(2):\n",
    "            S = np.ones((2, 2))\n",
    "            phi_prec_phi_t = phi_prec_phi_t + S * ex_phi_phi_t[k][m]\n",
    "        # output_lgz[k, n] -= (x[:, n] @ ex_phi[k] @ ex_phi[k].T @ x[:, n]) / 2\n",
    "        output_lgz[k, n] -= (x[:, n] @ phi_prec_phi_t @ x[:, n]) / 2\n",
    "np.savetxt('../testcase/output/ex_log_likelihood_given_z.csv', output_lgz, delimiter=',', fmt='%f')"
   ]
  },
  {
   "cell_type": "markdown",
   "metadata": {},
   "source": [
    "updateELBO"
   ]
  },
  {
   "cell_type": "code",
   "execution_count": 119,
   "metadata": {},
   "outputs": [],
   "source": [
    "output_ELBO = 0\n",
    "output_ELBO += np.log(c).sum();\n",
    "output_ELBO -= 2 * 2 * 2 * np.log(2 * np.pi) / 2;\n",
    "output_ELBO += 2 * 2 * np.log(lambda_).sum() / 2;\n",
    "for m in range(2):\n",
    "    for k in range(2):\n",
    "        output_ELBO -= lambda_[m] * np.trace(ex_phi_phi_t[k][m]) / 2;\n",
    "output_ELBO += q_phi_entropy;\n",
    "np.savetxt('../testcase/output/ELBO.csv', np.array([output_ELBO]), delimiter=',', fmt='%f')"
   ]
  }
 ],
 "metadata": {
  "kernelspec": {
   "display_name": "Python 3",
   "language": "python",
   "name": "python3"
  },
  "language_info": {
   "codemirror_mode": {
    "name": "ipython",
    "version": 3
   },
   "file_extension": ".py",
   "mimetype": "text/x-python",
   "name": "python",
   "nbconvert_exporter": "python",
   "pygments_lexer": "ipython3",
   "version": "3.7.7"
  }
 },
 "nbformat": 4,
 "nbformat_minor": 4
}
